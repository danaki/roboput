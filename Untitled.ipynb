{
 "cells": [
  {
   "cell_type": "code",
   "execution_count": 55,
   "metadata": {},
   "outputs": [],
   "source": [
    "from xml.dom import minidom as md\n",
    "from textgenrnn import textgenrnn\n",
    "import re"
   ]
  },
  {
   "cell_type": "code",
   "execution_count": 47,
   "metadata": {},
   "outputs": [],
   "source": [
    "xmldoc = md.parse('rechi.fb2')"
   ]
  },
  {
   "cell_type": "code",
   "execution_count": 44,
   "metadata": {},
   "outputs": [],
   "source": [
    "lines = []\n",
    "\n",
    "for i, node in enumerate(xmldoc.getElementsByTagName('section')):\n",
    "    if node.tagName == 'section' and i > 0:\n",
    "        for node in node.childNodes:\n",
    "            if node.nodeType == node.TEXT_NODE:\n",
    "                lines.append(node.data.strip())\n",
    "            elif node.tagName == 'title':\n",
    "                pass\n",
    "            else:\n",
    "                for node in node.childNodes:\n",
    "                    if node.nodeType == node.TEXT_NODE:\n",
    "                        lines.append(node.data.strip())                     \n",
    "                    elif node.tagName == 'title':\n",
    "                        pass\n",
    "                    else:\n",
    "                        for node in node.childNodes:\n",
    "                            if node.nodeType == node.TEXT_NODE:\n",
    "                                lines.append(node.data.strip())"
   ]
  },
  {
   "cell_type": "code",
   "execution_count": 56,
   "metadata": {},
   "outputs": [],
   "source": [
    "with open(\"plain.txt\", \"w\") as text_file:\n",
    "    for sentence in re.split(\"[.!?]\", ' '.join(lines)):\n",
    "        text_file.write(sentence + \"\\n\")"
   ]
  },
  {
   "cell_type": "code",
   "execution_count": 60,
   "metadata": {},
   "outputs": [
    {
     "name": "stdout",
     "output_type": "stream",
     "text": [
      "8,697 texts collected.\n",
      "Training new model w/ 2-layer, 128-cell LSTMs\n",
      "Training on 930,401 character sequences.\n",
      "Epoch 1/5\n",
      "7268/7268 [==============================] - 2200s 303ms/step - loss: 1.7150\n",
      "Epoch 2/5\n",
      "7268/7268 [==============================] - 2194s 302ms/step - loss: 1.2531\n",
      "Epoch 3/5\n",
      "7268/7268 [==============================] - 2191s 301ms/step - loss: 1.1566\n",
      "Epoch 4/5\n",
      "7268/7268 [==============================] - 2197s 302ms/step - loss: 1.0894\n",
      "Epoch 5/5\n",
      "7268/7268 [==============================] - 2176s 299ms/step - loss: 1.0321\n",
      "####################\n",
      "Temperature: 0.2\n",
      "####################\n",
      "  * * * * * * * * * * * *  в том ситдание принятия в стране в стране в стране в стране подготовленности в современном состоянии принять в производстве современных структур и в стране поддержания и советского общества и простой проблем в собственном стране\n",
      "\n",
      "  * * * * * * * * * * * *  уважаемые коллеги\n",
      "\n",
      "  * * * * * * * * * * * *  уважаемые коллеги\n",
      "\n",
      "####################\n",
      "Temperature: 0.5\n",
      "####################\n",
      "  * * * * * * * * * * * *  более вас не только просто государства\n",
      "\n",
      "  * * * * * * в наши усилия и против соблюдения в этом году надежно продолжать и соответствующую профессиональную собственную роль в создании государства и современность\n",
      "\n",
      "  * * * * * * * в последнее время в развитии и должно порядка надравления принимать только на выбором по правовой политике, просто не просто страной страны\n",
      "\n",
      "####################\n",
      "Temperature: 1.0\n",
      "####################\n",
      "  * * * * * * россия странгой уже правил в этом одной уголов\n",
      "\n",
      "  * * * * * в свой стран в столоку отдельные счет в мире – и для походов – рассмотреть всемирние и придростные для нас способно вызов\n",
      "\n",
      "  * * * * * * * в том числе в мире и контруктуру\n",
      "\n"
     ]
    }
   ],
   "source": [
    "textgen = textgenrnn()\n",
    "textgen.train_from_file(\"plain.txt\", new_model=True, num_epochs=5, gen_epochs=5)"
   ]
  },
  {
   "cell_type": "code",
   "execution_count": 83,
   "metadata": {},
   "outputs": [
    {
     "name": "stdout",
     "output_type": "stream",
     "text": [
      "  * * * * * * * в последние годы на объектов и продуманного контроля на отстаивают предложения процесса законов в нашей стране\n",
      "\n"
     ]
    }
   ],
   "source": [
    "textgen.generate()"
   ]
  },
  {
   "cell_type": "code",
   "execution_count": null,
   "metadata": {},
   "outputs": [],
   "source": []
  },
  {
   "cell_type": "code",
   "execution_count": null,
   "metadata": {},
   "outputs": [],
   "source": []
  }
 ],
 "metadata": {
  "kernelspec": {
   "display_name": "Python 3",
   "language": "python",
   "name": "python3"
  },
  "language_info": {
   "codemirror_mode": {
    "name": "ipython",
    "version": 3
   },
   "file_extension": ".py",
   "mimetype": "text/x-python",
   "name": "python",
   "nbconvert_exporter": "python",
   "pygments_lexer": "ipython3",
   "version": "3.6.4"
  },
  "varInspector": {
   "cols": {
    "lenName": 16,
    "lenType": 16,
    "lenVar": 40
   },
   "kernels_config": {
    "python": {
     "delete_cmd_postfix": "",
     "delete_cmd_prefix": "del ",
     "library": "var_list.py",
     "varRefreshCmd": "print(var_dic_list())"
    },
    "r": {
     "delete_cmd_postfix": ") ",
     "delete_cmd_prefix": "rm(",
     "library": "var_list.r",
     "varRefreshCmd": "cat(var_dic_list()) "
    }
   },
   "types_to_exclude": [
    "module",
    "function",
    "builtin_function_or_method",
    "instance",
    "_Feature"
   ],
   "window_display": false
  }
 },
 "nbformat": 4,
 "nbformat_minor": 2
}
